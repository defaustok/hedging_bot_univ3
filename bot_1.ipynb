{
 "cells": [
  {
   "cell_type": "code",
   "execution_count": 1,
   "metadata": {},
   "outputs": [],
   "source": [
    "import os\n",
    "from binance.client import Client\n",
    "from datetime import datetime, timedelta\n",
    "import datetime as dt\n",
    "import matplotlib.pyplot as plt\n",
    "import numpy as np\n",
    "import pandas as pd\n",
    "import seaborn as sn\n",
    "from binance_getprice import *\n",
    "from apyfromdefillama import *\n",
    "import mplfinance as mpf\n",
    "from decouple import config\n",
    "api_key = config('api_key')\n",
    "api_secret = config('api_secret')\n",
    "client = Client(api_key, api_secret)"
   ]
  },
  {
   "cell_type": "code",
   "execution_count": 15,
   "metadata": {},
   "outputs": [],
   "source": [
    "btc = get_historical_klines('BTCUSDT', Client.KLINE_INTERVAL_1MINUTE, '10 Nov, 2022', '15 Nov, 2022')\n",
    "apy = import_apy('WETH-USDC 0.3%','Arbitrum','v3')"
   ]
  },
  {
   "cell_type": "code",
   "execution_count": 23,
   "metadata": {},
   "outputs": [
    {
     "data": {
      "text/html": [
       "<div>\n",
       "<style scoped>\n",
       "    .dataframe tbody tr th:only-of-type {\n",
       "        vertical-align: middle;\n",
       "    }\n",
       "\n",
       "    .dataframe tbody tr th {\n",
       "        vertical-align: top;\n",
       "    }\n",
       "\n",
       "    .dataframe thead th {\n",
       "        text-align: right;\n",
       "    }\n",
       "</style>\n",
       "<table border=\"1\" class=\"dataframe\">\n",
       "  <thead>\n",
       "    <tr style=\"text-align: right;\">\n",
       "      <th></th>\n",
       "      <th>Open</th>\n",
       "      <th>apy</th>\n",
       "    </tr>\n",
       "    <tr>\n",
       "      <th>Open Time</th>\n",
       "      <th></th>\n",
       "      <th></th>\n",
       "    </tr>\n",
       "  </thead>\n",
       "  <tbody>\n",
       "    <tr>\n",
       "      <th>2022-11-10 00:00:00</th>\n",
       "      <td>15922.68</td>\n",
       "      <td>279.98324</td>\n",
       "    </tr>\n",
       "    <tr>\n",
       "      <th>2022-11-10 00:01:00</th>\n",
       "      <td>15883.35</td>\n",
       "      <td>279.98324</td>\n",
       "    </tr>\n",
       "    <tr>\n",
       "      <th>2022-11-10 00:02:00</th>\n",
       "      <td>15884.42</td>\n",
       "      <td>279.98324</td>\n",
       "    </tr>\n",
       "    <tr>\n",
       "      <th>2022-11-10 00:03:00</th>\n",
       "      <td>15763.52</td>\n",
       "      <td>279.98324</td>\n",
       "    </tr>\n",
       "    <tr>\n",
       "      <th>2022-11-10 00:04:00</th>\n",
       "      <td>15837.48</td>\n",
       "      <td>279.98324</td>\n",
       "    </tr>\n",
       "    <tr>\n",
       "      <th>...</th>\n",
       "      <td>...</td>\n",
       "      <td>...</td>\n",
       "    </tr>\n",
       "    <tr>\n",
       "      <th>2022-11-14 23:56:00</th>\n",
       "      <td>16621.93</td>\n",
       "      <td>76.45507</td>\n",
       "    </tr>\n",
       "    <tr>\n",
       "      <th>2022-11-14 23:57:00</th>\n",
       "      <td>16613.82</td>\n",
       "      <td>76.45507</td>\n",
       "    </tr>\n",
       "    <tr>\n",
       "      <th>2022-11-14 23:58:00</th>\n",
       "      <td>16621.78</td>\n",
       "      <td>76.45507</td>\n",
       "    </tr>\n",
       "    <tr>\n",
       "      <th>2022-11-14 23:59:00</th>\n",
       "      <td>16612.85</td>\n",
       "      <td>76.45507</td>\n",
       "    </tr>\n",
       "    <tr>\n",
       "      <th>2022-11-15 00:00:00</th>\n",
       "      <td>16617.72</td>\n",
       "      <td>65.51203</td>\n",
       "    </tr>\n",
       "  </tbody>\n",
       "</table>\n",
       "<p>7201 rows × 2 columns</p>\n",
       "</div>"
      ],
      "text/plain": [
       "                         Open        apy\n",
       "Open Time                               \n",
       "2022-11-10 00:00:00  15922.68  279.98324\n",
       "2022-11-10 00:01:00  15883.35  279.98324\n",
       "2022-11-10 00:02:00  15884.42  279.98324\n",
       "2022-11-10 00:03:00  15763.52  279.98324\n",
       "2022-11-10 00:04:00  15837.48  279.98324\n",
       "...                       ...        ...\n",
       "2022-11-14 23:56:00  16621.93   76.45507\n",
       "2022-11-14 23:57:00  16613.82   76.45507\n",
       "2022-11-14 23:58:00  16621.78   76.45507\n",
       "2022-11-14 23:59:00  16612.85   76.45507\n",
       "2022-11-15 00:00:00  16617.72   65.51203\n",
       "\n",
       "[7201 rows x 2 columns]"
      ]
     },
     "execution_count": 23,
     "metadata": {},
     "output_type": "execute_result"
    }
   ],
   "source": [
    "new = btc.join(apy, how = 'left').ffill()\n",
    "new = new[['Open', 'apy']]\n",
    "new"
   ]
  }
 ],
 "metadata": {
  "kernelspec": {
   "display_name": "Python 3.10.4 64-bit",
   "language": "python",
   "name": "python3"
  },
  "language_info": {
   "codemirror_mode": {
    "name": "ipython",
    "version": 3
   },
   "file_extension": ".py",
   "mimetype": "text/x-python",
   "name": "python",
   "nbconvert_exporter": "python",
   "pygments_lexer": "ipython3",
   "version": "3.10.4"
  },
  "orig_nbformat": 4,
  "vscode": {
   "interpreter": {
    "hash": "3ad933181bd8a04b432d3370b9dc3b0662ad032c4dfaa4e4f1596c548f763858"
   }
  }
 },
 "nbformat": 4,
 "nbformat_minor": 2
}
